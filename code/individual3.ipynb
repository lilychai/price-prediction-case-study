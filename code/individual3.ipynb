{
 "cells": [
  {
   "cell_type": "markdown",
   "metadata": {},
   "source": [
    "# Attempt 3.1: Numericalize Equipment Model\n",
    "\n",
    "## idea: \n",
    "* Evolved from [James' idea](https://github.com/LJamesHu/regression-case-study/blob/master/model.py)\n",
    "* Use \"average sales price\" and \"average sales price per age\" as numerical representations of equipment model.\n",
    "    * Parts to a full \"equipment model identifier\":\n",
    "        * `ProductGroup`\n",
    "        * `fiBaseModel`\n",
    "        * `ModelID`\n",
    "    * Group observations by model and take the average, store in dictionaries:\n",
    "        * average price if only `ProductGroup` is known\n",
    "        * average price if onl `ProductGroup` and `fiBaseModel` are known\n",
    "        * average price when all three parts are known\n",
    "* Reference sales price for a test observation is \n",
    "    * `(average sales price per age) * (age)` if the test observation has a valid age\n",
    "    * `(average sales price)` if the test observation does not have a valid age\n",
    "<br>\n",
    "\n",
    "## feature matrix:\n",
    "* `Age`: sales date - year made\n",
    "* `price_ref`: average sales price found in the reference dictionaries\n",
    "\n",
    "<br>\n",
    "##  v3.1:\n",
    "* rows with invalid `Age` ~= 10% of data...\n",
    "    * training -- discard them\n",
    "    * testing -- replace with average age of equipment model\n",
    "\n",
    "<br>\n",
    "*(converted into an object)*\n",
    "<br>\n",
    "<hr style='\tbackground-color: #fff; border-top: 2px dashed #8c8b8b;'>"
   ]
  },
  {
   "cell_type": "code",
   "execution_count": 20,
   "metadata": {
    "collapsed": true
   },
   "outputs": [],
   "source": [
    "from sklearn.ensemble import RandomForestRegressor\n",
    "from sklearn.ensemble import AdaBoostRegressor\n",
    "from sklearn.ensemble import GradientBoostingRegressor\n",
    "\n",
    "from sklearn.grid_search import GridSearchCV \n",
    "\n",
    "from sklearn.cross_validation import train_test_split\n",
    "from sklearn.metrics import mean_squared_error, r2_score\n",
    "\n",
    "from sklearn.base import clone\n",
    "from sklearn.pipeline import Pipeline\n",
    "from sklearn.preprocessing import MinMaxScaler, Normalizer, StandardScaler"
   ]
  },
  {
   "cell_type": "code",
   "execution_count": 3,
   "metadata": {
    "collapsed": true
   },
   "outputs": [],
   "source": [
    "import pandas as pd\n",
    "import numpy as np\n",
    "import zipfile"
   ]
  },
  {
   "cell_type": "code",
   "execution_count": 4,
   "metadata": {
    "collapsed": true
   },
   "outputs": [],
   "source": [
    "df_train = pd.read_csv(zipfile.ZipFile('data/Train.zip', mode='r').open('Train.csv'), low_memory=False)\n",
    "df_test = pd.read_csv(zipfile.ZipFile('data/Test.zip', mode='r').open('test.csv'), low_memory=False)"
   ]
  },
  {
   "cell_type": "markdown",
   "metadata": {},
   "source": [
    "<hr style='\tbackground-color: #fff; border-top: 2px dashed #8c8b8b;'>\n",
    "<br>\n",
    "# Data Cleaner"
   ]
  },
  {
   "cell_type": "code",
   "execution_count": 82,
   "metadata": {
    "collapsed": true
   },
   "outputs": [],
   "source": [
    "def df_cleaner(df, isTrain=False, mute=True):\n",
    "    \n",
    "    info = [ \\\n",
    "            'ProductGroup',\n",
    "            'state',\n",
    "            'fiBaseModel',\n",
    "            'ModelID',\n",
    "           ]\n",
    " \n",
    "    df = df[info + ['YearMade', 'saledate'] + isTrain*['SalePrice']].copy()\n",
    "\n",
    "\n",
    "    df['ModelID'] = df['ModelID'].astype('str')\n",
    "    \n",
    "\n",
    "    # index string `1/10/2003 0:00` to get sale year (faster than using `pd.DatetimeIndex(df['saledate']).year`)\n",
    "    df['Age'] = df.saledate.str[-9:-4].astype(int) - df['YearMade']\n",
    "    \n",
    "    if isTrain:\n",
    "        # from inspecting the historgram of YearMade, drop all made before 1940 (probably fictitious)\n",
    "        df = df[df.YearMade >= 1940] \n",
    "        \n",
    "        df = df[df.Age > 0]\n",
    "        df['PricePerAge'] = df['SalePrice'] / (df['Age'] + 1)  # avoid division by 0\n",
    "        \n",
    "    ## what to do with NaNs???\n",
    "    \n",
    "    df.drop(['YearMade', 'saledate'], axis=1, inplace=True)\n",
    "\n",
    "    if not mute:\n",
    "        print df.columns\n",
    "        print df.shape\n",
    "        \n",
    "    return df"
   ]
  },
  {
   "cell_type": "markdown",
   "metadata": {},
   "source": [
    "### Tester"
   ]
  },
  {
   "cell_type": "code",
   "execution_count": 83,
   "metadata": {
    "collapsed": false
   },
   "outputs": [
    {
     "name": "stdout",
     "output_type": "stream",
     "text": [
      "Index([u'ProductGroup', u'state', u'fiBaseModel', u'ModelID', u'SalePrice',\n",
      "       u'Age', u'PricePerAge'],\n",
      "      dtype='object')\n",
      "(28, 7)\n"
     ]
    }
   ],
   "source": [
    "df = df_cleaner(df_train[:30], isTrain=True, mute=False)\n",
    "# %timeit df_cleaner(df_train[:100])"
   ]
  },
  {
   "cell_type": "markdown",
   "metadata": {},
   "source": [
    "<hr style='\tbackground-color: #fff; border-top: 2px dashed #8c8b8b;'>\n",
    "<br>\n",
    "# Model"
   ]
  },
  {
   "cell_type": "code",
   "execution_count": 84,
   "metadata": {
    "collapsed": false
   },
   "outputs": [],
   "source": [
    "def model_average_dics(df):\n",
    "    \"\"\"\n",
    "    :type df: pandas.DataFrame\n",
    "    :type mute: bool\n",
    "    :rtype: pandas.DataFrame\n",
    "    \"\"\"\n",
    "    \n",
    "    info = [ \\\n",
    "            'ProductGroup',  ## every vehicle has a valid ProductGroup\n",
    "            'state',\n",
    "            'fiBaseModel',\n",
    "            'ModelID',\n",
    "           ]\n",
    "\n",
    "    \n",
    "    Price_dics, PricePerAge_dics, Age_dics = {}, {}, {}\n",
    "    for i in xrange(1,len(info)+1):\n",
    "        cnames = info[0:i]\n",
    "        \n",
    "        # SalePrice and PricePerAge both have no NaN so can dropna together\n",
    "        grpdf = df.dropna().groupby(cnames) \n",
    "        Price_dics[i]       = grpdf.mean()['SalePrice'].to_dict()\n",
    "        PricePerAge_dics[i] = grpdf.mean()['PricePerAge'].to_dict()\n",
    "        Age_dics[i]         = grpdf.mean()['Age'].to_dict()\n",
    "        \n",
    "    return (Price_dics, PricePerAge_dics, Age_dics)\n",
    "    "
   ]
  },
  {
   "cell_type": "code",
   "execution_count": 85,
   "metadata": {
    "collapsed": true
   },
   "outputs": [],
   "source": [
    "def get_reference_price(df, price_dics=None, mute=True):\n",
    "    \"\"\"\n",
    "    Columns in df: info, SalePrice, Age, PricePerAge\n",
    "    \"\"\"\n",
    "\n",
    "    if not mute:\n",
    "        print df.columns\n",
    "    \n",
    "    \n",
    "    if not price_dics:\n",
    "        price_dics = model_average_dics(df)\n",
    "    \n",
    "    \n",
    "    info = [ \\\n",
    "            'ProductGroup',\n",
    "            'state',\n",
    "            'fiBaseModel',\n",
    "            'ModelID',\n",
    "           ]\n",
    "    \n",
    "    feats = df[info + ['Age']].values  # only want info and Age\n",
    "\n",
    "    completeness = df[info].notnull().sum(1).values  # how complete a row's info is \n",
    "    hasAge = feats[:,-1] >= 0\n",
    "    age_multiplier = feats[:,-1]\n",
    "    age_multiplier[age_multiplier >= 0] += 1   # because PricePerAvg was calculated by dividing by Age+1\n",
    "    #age_multiplier[age_multiplier < 0] = 1    # will multiply to avg SalePrice\n",
    "\n",
    "    PricePerAge_dics = price_dics[1]\n",
    "    Age_dics = price_dics[2]\n",
    "    \n",
    "    price_ref = np.zeros(len(df))\n",
    "    for r in xrange(len(feats)):\n",
    "        c = completeness[r]\n",
    "        t = tuple(feats[r,:c])\n",
    "        \n",
    "        while t not in PricePerAge_dics[c]:\n",
    "            c -= 1\n",
    "            t = feats[r,0] if c == 1 else tuple(feats[r,:c])\n",
    "            if c == 0: print 'Error! \\n Index %i:%s' % (df.index[r], feats[r])\n",
    "        \n",
    "        price_ref[r] = (age_multiplier[r] if hasAge[r] else Age_dics[c][t]) * PricePerAge_dics[c][t]\n",
    "\n",
    "        \n",
    "    return (price_ref, price_dics)"
   ]
  },
  {
   "cell_type": "code",
   "execution_count": 86,
   "metadata": {
    "collapsed": false
   },
   "outputs": [],
   "source": [
    "def fit(estimator, df, mute=True):\n",
    "    \n",
    "    df = df_cleaner(df, isTrain=True, mute=mute)\n",
    "    price_ref, price_dics = get_reference_price(df, mute=mute)\n",
    "        \n",
    "    X = np.stack((df['Age'].astype(float).values, price_ref), axis=-1)\n",
    "    y = df['SalePrice'].values\n",
    "    \n",
    "    if not mute:\n",
    "        print X.shape\n",
    "        print y.shape\n",
    "        \n",
    "    return estimator.fit(X,y), price_dics"
   ]
  },
  {
   "cell_type": "markdown",
   "metadata": {},
   "source": [
    "### Tester"
   ]
  },
  {
   "cell_type": "code",
   "execution_count": 87,
   "metadata": {
    "collapsed": false
   },
   "outputs": [],
   "source": [
    "model, price_dics = fit(RandomForestRegressor(n_jobs=-1), df_train[:30])"
   ]
  },
  {
   "cell_type": "markdown",
   "metadata": {},
   "source": [
    "<hr style='background-color: #fff; border-top: 2px dotted #8c8b8b;'>"
   ]
  },
  {
   "cell_type": "code",
   "execution_count": 88,
   "metadata": {
    "collapsed": true
   },
   "outputs": [],
   "source": [
    "def predict(estimator, price_dics, df, mute=True):\n",
    "    \n",
    "    df = df_cleaner(df, isTrain=False, mute=mute)\n",
    "    price_ref, price_dics = get_reference_price(df, price_dics=price_dics, mute=mute)\n",
    "\n",
    "    X = np.stack((df['Age'].astype(float).values, price_ref), axis=-1)\n",
    "    \n",
    "    return estimator.predict(X)"
   ]
  },
  {
   "cell_type": "markdown",
   "metadata": {},
   "source": [
    "### Tester"
   ]
  },
  {
   "cell_type": "code",
   "execution_count": 89,
   "metadata": {
    "collapsed": false
   },
   "outputs": [],
   "source": [
    "y_pred = predict(model, price_dics, df_train[:30])"
   ]
  },
  {
   "cell_type": "markdown",
   "metadata": {},
   "source": [
    "<hr style='\tbackground-color: #fff; border-top: 2px dashed #8c8b8b;'>\n",
    "<br>\n",
    "# Quick Test -- 2000 Random Observations\n",
    "***(n.b.: comment out \"`rand_i = rand_i[:2000]`\" for a full test on `Train.csv` data)***"
   ]
  },
  {
   "cell_type": "code",
   "execution_count": 94,
   "metadata": {
    "collapsed": true
   },
   "outputs": [],
   "source": [
    "np.random.seed(42)\n",
    "\n",
    "rand_i = range(len(df_train))\n",
    "np.random.shuffle(rand_i)\n",
    "rand_i = rand_i[:2000]\n",
    "test_size = int(len(rand_i)*0.2)\n",
    "\n",
    "qt_df_test = df_train.iloc[rand_i[:test_size], :]\n",
    "qt_df_train = df_train.iloc[rand_i[test_size:], :]"
   ]
  },
  {
   "cell_type": "code",
   "execution_count": 95,
   "metadata": {
    "collapsed": false
   },
   "outputs": [],
   "source": [
    "estimator = RandomForestRegressor(50, n_jobs=-1)\n",
    "# estimator = GradientBoostingRegressor()\n",
    "# estimator = AdaBoostRegressor()\n",
    "\n",
    "model, price_dics = fit(estimator, qt_df_train)"
   ]
  },
  {
   "cell_type": "code",
   "execution_count": 96,
   "metadata": {
    "collapsed": false
   },
   "outputs": [
    {
     "name": "stdout",
     "output_type": "stream",
     "text": [
      "0.909088934571\n"
     ]
    }
   ],
   "source": [
    "y_pred = predict(model, price_dics, qt_df_test)\n",
    "print rmsle(qt_df_test['SalePrice'].values, y_pred)"
   ]
  },
  {
   "cell_type": "markdown",
   "metadata": {},
   "source": [
    "<hr style='\tbackground-color: #fff; border-top: 2px dashed #8c8b8b;'>\n",
    "<br>\n",
    "\n",
    "# Moment of Truth... (dum dum dum)"
   ]
  },
  {
   "cell_type": "code",
   "execution_count": 15,
   "metadata": {
    "collapsed": true
   },
   "outputs": [],
   "source": [
    "def rmsle(y, y_pred):\n",
    "    \"\"\"\n",
    "    :type y: numpy.array\n",
    "    :type y_pred: numpy.array\n",
    "    :rtype: float\n",
    "    \"\"\"\n",
    "    return np.sqrt(np.sum((np.log(y_pred + 1) - np.log(y + 1))**2) / len(y))"
   ]
  },
  {
   "cell_type": "code",
   "execution_count": 21,
   "metadata": {
    "collapsed": true
   },
   "outputs": [],
   "source": [
    "test_solution = pd.read_csv('data/do_not_open/test_soln.csv')"
   ]
  },
  {
   "cell_type": "code",
   "execution_count": 97,
   "metadata": {
    "collapsed": true
   },
   "outputs": [],
   "source": [
    "model, price_dics = fit(RandomForestRegressor(30, n_jobs=-1), df_train)"
   ]
  },
  {
   "cell_type": "code",
   "execution_count": 98,
   "metadata": {
    "collapsed": false
   },
   "outputs": [
    {
     "name": "stdout",
     "output_type": "stream",
     "text": [
      "0.651515625128\n"
     ]
    }
   ],
   "source": [
    "y_pred = predict(model, price_dics, df_test)\n",
    "print rmsle(test_solution['SalePrice'].values, y_pred)"
   ]
  },
  {
   "cell_type": "code",
   "execution_count": null,
   "metadata": {
    "collapsed": false
   },
   "outputs": [],
   "source": [
    "result_df = pd.DataFrame(np.c_[df_test['SalesID'].values, y_pred], \n",
    "                         columns = ['SalesID', 'SalePrice'])\n",
    "result_df.to_csv('result_individual2.csv', index=False)"
   ]
  }
 ],
 "metadata": {
  "kernelspec": {
   "display_name": "Python 2",
   "language": "python",
   "name": "python2"
  },
  "language_info": {
   "codemirror_mode": {
    "name": "ipython",
    "version": 2
   },
   "file_extension": ".py",
   "mimetype": "text/x-python",
   "name": "python",
   "nbconvert_exporter": "python",
   "pygments_lexer": "ipython2",
   "version": "2.7.11"
  }
 },
 "nbformat": 4,
 "nbformat_minor": 0
}
