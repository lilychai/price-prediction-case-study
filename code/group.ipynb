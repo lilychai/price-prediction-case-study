{
 "cells": [
  {
   "cell_type": "markdown",
   "metadata": {},
   "source": [
    "# Attempt 1: Technically Incorrect but Surprisingly Low RMS Log Error\n",
    "\n",
    "## idea:\n",
    "* Drop columns that seems useless from quick data exploration\n",
    "* Numericalize the rest using integer code\n",
    "* Add `Age` column == sale date - year made\n",
    "* Train six models, one for each equipment group\n",
    "\n",
    "## feature matrix:\n",
    "(see `df_cleaner()` function)\n",
    "\n",
    "<br>\n",
    "<hr style='\tbackground-color: #fff; border-top: 2px dashed #8c8b8b;'>"
   ]
  },
  {
   "cell_type": "code",
   "execution_count": null,
   "metadata": {
    "collapsed": true
   },
   "outputs": [],
   "source": [
    "import pandas as pd\n",
    "import numpy as np\n",
    "from sklearn.ensemble import RandomForestRegressor, AdaBoostRegressor, GradientBoostingRegressor\n",
    "from sklearn.cross_validation import train_test_split\n",
    "from sklearn.grid_search import GridSearchCV \n",
    "from sklearn.metrics import mean_squared_error, r2_score\n",
    "from sklearn.linear_model import Ridge\n",
    "from sklearn.base import clone\n",
    "from sklearn.preprocessing import MinMaxScaler\n",
    "import zipfile"
   ]
  },
  {
   "cell_type": "code",
   "execution_count": 2,
   "metadata": {
    "collapsed": false
   },
   "outputs": [],
   "source": [
    "def df_cleaner(df):\n",
    "\n",
    "    \n",
    "    df = df.copy()\n",
    "    \n",
    "    \n",
    "    ## Han\n",
    "    colnames = ['ProductSize','state', 'ProductGroup', 'Drive_System',\\\n",
    "                'Enclosure', 'Forks', 'Pad_Type', 'Ride_Control', 'Stick','Transmission']\n",
    "\n",
    "    df.drop(['MachineID',\n",
    "             'fiModelDescriptor', \n",
    "             'fiProductClassDesc', \n",
    "             'ProductGroupDesc'], axis=1, inplace=True)\n",
    "    \n",
    "    df.drop(df[['SalesID',\n",
    "                'fiModelDesc',\n",
    "                'fiSecondaryDesc', \n",
    "                'fiModelSeries']], axis=1, inplace=True)\n",
    "    \n",
    "    df.drop(['Blade_Extension', \n",
    "             'Blade_Width', \n",
    "             'Pushblock', \n",
    "             'Scarifier', \n",
    "             'Tire_Size', \n",
    "             'Coupler_System'], axis=1, inplace=True)\n",
    "  \n",
    "    \n",
    "    # temporary drop\n",
    "    df.drop('fiBaseModel', axis=1, inplace=True)\n",
    "\n",
    "    \n",
    "    \n",
    "    for colname in colnames:\n",
    "        df[colname] = pd.Categorical(df[colname]).codes + 2\n",
    "            \n",
    "            \n",
    "            \n",
    "    ## Lily        \n",
    "    for cname in df.columns[-13:]:\n",
    "        df[cname] = pd.Categorical(df[cname]).codes + 2\n",
    "\n",
    "        \n",
    "        \n",
    "                \n",
    "    ## PR            \n",
    "    column_names = ['Turbocharged','Hydraulics','Enclosure_Type','Engine_Horsepower','Ripper','Tip_Control','Coupler' ]\n",
    "    for i,names in enumerate(column_names):\n",
    "        unique_vals = df[names].unique()\n",
    "        for n, vals in enumerate(unique_vals):\n",
    "            if type(vals) is str:\n",
    "                df.loc[df[names] == vals, names] = n\n",
    "            else:\n",
    "                df.loc[df[names].isnull(), names] = n\n",
    "\n",
    "    \n",
    "    ## Engel\n",
    "    df[\"UsageBand\"] = df[\"UsageBand\"].fillna(\"Medium\")\n",
    "    df.loc[df[\"UsageBand\"] == \"Low\", \"UsageBand\"] = 1\n",
    "    df.loc[df[\"UsageBand\"] == \"Medium\", \"UsageBand\"] = 2\n",
    "    df.loc[df[\"UsageBand\"] == \"High\", \"UsageBand\"] = 3\n",
    "    df[\"auctioneerID\"] = df[\"auctioneerID\"].fillna(df[\"auctioneerID\"].median())\n",
    "\n",
    "    df[\"MachineHoursCurrentMeter\"] = df[\"MachineHoursCurrentMeter\"].fillna(df[\"MachineHoursCurrentMeter\"].median())\n",
    "     \n",
    "    df.drop([ \\\n",
    "#              'Hydraulics_Flow',\n",
    "#              'Blade_Type',\n",
    "#              'Stick_Length',\n",
    "#              'Ripper',\n",
    "#              'Coupler',\n",
    "#              'Undercarriage_Pad_Width',\n",
    "#              'Thumb',\n",
    "#              'UsageBand',\n",
    "#              'Transmission',\n",
    "#              'Ride_Control',\n",
    "#              'Grouser_Type',\n",
    "#              'Tip_Control',\n",
    "#              'Drive_System',\n",
    "#              'Travel_Controls',\n",
    "#              'Forks',\n",
    "#              'Enclosure_Type',\n",
    "#              'Differential_Type',\n",
    "#              'Steering_Controls',\n",
    "#              'Pattern_Changer',\n",
    "#              'Engine_Horsepower',\n",
    "#              'Track_Type',\n",
    "#              'Stick',\n",
    "#              'Backhoe_Mounting',\n",
    "#              'Pad_Type',\n",
    "#              'Turbocharged',\n",
    "#              'Grouser_Tracks' \\\n",
    "             ], axis=1, inplace=True)\n",
    "\n",
    "    df['time_manf_sale'] = pd.DatetimeIndex(df['saledate']).year - df['YearMade']\n",
    "#     df['AgeSize'] = df.time_manf_sale * df.ProductSize\n",
    "#     df['GroupSize'] = df.ProductGroup * df.ProductSize\n",
    "    \n",
    "    return df"
   ]
  },
  {
   "cell_type": "code",
   "execution_count": 3,
   "metadata": {
    "collapsed": false
   },
   "outputs": [],
   "source": [
    "def train_models(df, base_estimator, feat_import=None):\n",
    "    \n",
    "    models = {}\n",
    "    grpdf = df.groupby('ProductGroup')\n",
    "    for key, grp in grpdf:\n",
    "        print 'Training', key\n",
    "        df2 = df[df['ProductGroup'] == key]\n",
    "        df2 = df_cleaner(df2)\n",
    "        \n",
    "        y = df2['SalePrice'].values\n",
    "        X = df2.drop(['SalePrice', 'saledate', 'ProductGroup'], axis=1).values\n",
    "        \n",
    "        \n",
    "        if feat_import:\n",
    "            X = X[:,feat_import[key]]\n",
    "            \n",
    "        estimator = clone(base_estimator)\n",
    "        models[key] = estimator.fit(X, y)\n",
    "\n",
    "    return models"
   ]
  },
  {
   "cell_type": "code",
   "execution_count": 4,
   "metadata": {
    "collapsed": false
   },
   "outputs": [],
   "source": [
    "def models_predict(models, df, y_available=True, feat_import=None):\n",
    "\n",
    "    df.index = range(len(df))\n",
    "    y_final = np.zeros(len(df))\n",
    "    \n",
    "    grpdf = df.groupby('ProductGroup')\n",
    "    for key, grp in grpdf:\n",
    "        print 'Testing', key\n",
    "        \n",
    "        inds = df['ProductGroup'] == key\n",
    "        df2 = df[inds]\n",
    "        df2 = df_cleaner(df2)\n",
    "        \n",
    "        if y_available:\n",
    "            y = df2['SalePrice'].values\n",
    "            X = df2.drop(['SalePrice', 'saledate', 'ProductGroup'], axis=1).values\n",
    "        else:\n",
    "            X = df2.drop(['saledate', 'ProductGroup'], axis=1).values\n",
    "        \n",
    "        \n",
    "        if feat_import:\n",
    "            X = X[:,feat_import[key]]\n",
    "        \n",
    "        \n",
    "        y_pred = models[key].predict(X)\n",
    "        y_final[list(df[inds].index)] += y_pred\n",
    "    \n",
    "    if y_available:\n",
    "        print r2_score(df['SalePrice'].values, y_final)\n",
    "\n",
    "    return y_final"
   ]
  },
  {
   "cell_type": "code",
   "execution_count": 8,
   "metadata": {
    "collapsed": false
   },
   "outputs": [
    {
     "name": "stderr",
     "output_type": "stream",
     "text": [
      "/Users/l/anaconda/lib/python2.7/site-packages/IPython/core/interactiveshell.py:2902: DtypeWarning: Columns (13,39,40,41) have mixed types. Specify dtype option on import or set low_memory=False.\n",
      "  interactivity=interactivity, compiler=compiler, result=result)\n"
     ]
    }
   ],
   "source": [
    "df_train = pd.read_csv(zipfile.ZipFile('data/Train.zip', mode='r').open('Train.csv'))\n",
    "df_test = pd.read_csv(zipfile.ZipFile('data/Test.zip', mode='r').open('test.csv'))\n",
    "\n",
    "# df_train = pd.read_csv('data/Train.csv')#, parse_dates=['saledate'])\n",
    "# df_test = pd.read_csv('data/test.csv')#, parse_dates=['saledate'])"
   ]
  },
  {
   "cell_type": "code",
   "execution_count": 9,
   "metadata": {
    "collapsed": false
   },
   "outputs": [
    {
     "name": "stdout",
     "output_type": "stream",
     "text": [
      "Training BL\n",
      "Training MG\n",
      "Training SSL\n",
      "Training TEX\n",
      "Training TTT\n",
      "Training WL\n"
     ]
    }
   ],
   "source": [
    "models = train_models(df_train.copy(), RandomForestRegressor(50))"
   ]
  },
  {
   "cell_type": "code",
   "execution_count": 10,
   "metadata": {
    "collapsed": false
   },
   "outputs": [
    {
     "name": "stdout",
     "output_type": "stream",
     "text": [
      "Testing BL\n",
      "Testing MG\n",
      "Testing SSL\n",
      "Testing TEX\n",
      "Testing TTT\n",
      "Testing WL\n"
     ]
    }
   ],
   "source": [
    "y_pred = models_predict(models, df_test.copy(),y_available=False)"
   ]
  },
  {
   "cell_type": "code",
   "execution_count": 11,
   "metadata": {
    "collapsed": false
   },
   "outputs": [],
   "source": [
    "result_df = pd.DataFrame(np.c_[df_test['SalesID'].values, y_pred], columns = ['SalesID', 'SalePrice'])\n",
    "result_df.to_csv('result_group1.csv', index=False)"
   ]
  },
  {
   "cell_type": "code",
   "execution_count": 13,
   "metadata": {
    "collapsed": false
   },
   "outputs": [],
   "source": [
    "# python score_model.py result.csv"
   ]
  },
  {
   "cell_type": "code",
   "execution_count": null,
   "metadata": {
    "collapsed": true
   },
   "outputs": [],
   "source": []
  },
  {
   "cell_type": "markdown",
   "metadata": {},
   "source": [
    "# Quick Test -- Run this first!"
   ]
  },
  {
   "cell_type": "code",
   "execution_count": 94,
   "metadata": {
    "collapsed": false
   },
   "outputs": [
    {
     "name": "stdout",
     "output_type": "stream",
     "text": [
      "Training BL\n",
      "Training MG\n",
      "Training SSL\n",
      "Training TEX\n",
      "Training TTT\n",
      "Training WL\n",
      "Testing BL\n",
      "Testing MG\n",
      "Testing SSL\n",
      "Testing TEX\n",
      "Testing TTT\n",
      "Testing WL\n",
      "0.713170483446\n"
     ]
    }
   ],
   "source": [
    "# Quick Test\n",
    "\n",
    "df = df_train\n",
    "np.random.seed(42)\n",
    "\n",
    "rand_i = range(len(df))\n",
    "np.random.shuffle(rand_i)\n",
    "rand_i = rand_i[:2000]\n",
    "test_size = int(len(rand_i)*0.2)\n",
    "\n",
    "sub_df_test = df.iloc[rand_i[:test_size], :]\n",
    "sub_df_train = df.iloc[rand_i[test_size:], :]\n",
    "\n",
    "models = train_models(sub_df_train.copy(), RandomForestRegressor(50))\n",
    "y_pred = models_predict(models, sub_df_test.copy())"
   ]
  },
  {
   "cell_type": "code",
   "execution_count": null,
   "metadata": {
    "collapsed": true
   },
   "outputs": [],
   "source": []
  },
  {
   "cell_type": "code",
   "execution_count": null,
   "metadata": {
    "collapsed": true
   },
   "outputs": [],
   "source": []
  }
 ],
 "metadata": {
  "kernelspec": {
   "display_name": "Python 2",
   "language": "python",
   "name": "python2"
  },
  "language_info": {
   "codemirror_mode": {
    "name": "ipython",
    "version": 2
   },
   "file_extension": ".py",
   "mimetype": "text/x-python",
   "name": "python",
   "nbconvert_exporter": "python",
   "pygments_lexer": "ipython2",
   "version": "2.7.11"
  }
 },
 "nbformat": 4,
 "nbformat_minor": 0
}
