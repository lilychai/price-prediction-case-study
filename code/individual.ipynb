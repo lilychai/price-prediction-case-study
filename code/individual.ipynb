{
 "cells": [
  {
   "cell_type": "markdown",
   "metadata": {},
   "source": [
    "# Attempt 2: Six Models with Dummy Variables\n",
    "\n",
    "## idea: \n",
    "* Train 6 models, one for each product group\n",
    "* In the raw data, columns 20 onward are product-group-specific attributes of the equipements.\n",
    "    * Add `k-1` dummy variables for columns with `k` categorical codes (k different descriptions)\n",
    "        * In order for the feature matrices `X_train` and `X_test` to be of the same \"width\"...\n",
    "            * if a attribute shows up in the training set but not in the test set, add a column of zeros to `X_test`\n",
    "            * if a attribute shows up in the test set but not in the training set, drop this column in `X_test`\n",
    "        \n",
    "    * Drop a column if it only has one categorical code, either\n",
    "        * all NaNs -- i.e. the feature does not apply to this product group\n",
    "        * all have the same descriptions -- not intereting\n",
    "    \n",
    "\n",
    "## features matrix:\n",
    "* `Age`: sales date - year made\n",
    "* Equipement attribute dummy variables\n",
    "\n",
    "<br>\n",
    "<hr style='\tbackground-color: #fff; border-top: 2px dashed #8c8b8b;'>"
   ]
  },
  {
   "cell_type": "code",
   "execution_count": 614,
   "metadata": {
    "collapsed": false
   },
   "outputs": [
    {
     "name": "stdout",
     "output_type": "stream",
     "text": [
      "Populating the interactive namespace from numpy and matplotlib\n"
     ]
    }
   ],
   "source": [
    "from sklearn.ensemble import RandomForestRegressor\n",
    "from sklearn.ensemble import AdaBoostRegressor\n",
    "from sklearn.ensemble import GradientBoostingRegressor\n",
    "from sklearn.linear_model import LinearRegression, Ridge, Lasso\n",
    "\n",
    "from sklearn.grid_search import GridSearchCV \n",
    "\n",
    "from sklearn.cross_validation import train_test_split\n",
    "from sklearn.metrics import mean_squared_error, r2_score\n",
    "\n",
    "from sklearn.base import clone\n",
    "from sklearn.pipeline import Pipeline\n",
    "from sklearn.preprocessing import MinMaxScaler, Normalizer, StandardScaler\n",
    "\n",
    "import pandas as pd\n",
    "import numpy as np\n",
    "import zipfile\n",
    "\n",
    "import matplotlib.pyplot as plt\n",
    "import seaborn as sns\n",
    "\n",
    "%pylab inline"
   ]
  },
  {
   "cell_type": "code",
   "execution_count": 5,
   "metadata": {
    "collapsed": false
   },
   "outputs": [],
   "source": [
    "df_train = pd.read_csv(zipfile.ZipFile('data/Train.zip', mode='r').open('Train.csv'), low_memory=False, parse_dates=['saledate'])\n",
    "df_test = pd.read_csv(zipfile.ZipFile('data/Test.zip', mode='r').open('test.csv'), low_memory=False, parse_dates=['saledate'])\n",
    "\n",
    "# df_train = pd.read_csv('data/Train.csv', parse_dates=['saledate'])\n",
    "# df_test = pd.read_csv('data/test.csv', parse_dates=['saledate'])"
   ]
  },
  {
   "cell_type": "markdown",
   "metadata": {},
   "source": [
    "<hr style='\tbackground-color: #fff; border-top: 2px dashed #8c8b8b;'>\n",
    "<br>\n",
    "# Data Cleaner"
   ]
  },
  {
   "cell_type": "code",
   "execution_count": 600,
   "metadata": {
    "collapsed": false
   },
   "outputs": [],
   "source": [
    "def df_cleaner(df, drop_mono=True, dropna=False):\n",
    "    \"\"\"\n",
    "    :type df: pandas.DataFrame\n",
    "    :rtype df: pandas.DataFrame\n",
    "    \"\"\"\n",
    "    \n",
    "    df = df.copy()\n",
    "    \n",
    "    \n",
    "    ## `saledate` converted to pd.datetime format when loading data\n",
    "    df['Age'] = (df['saledate'].dt.year - df['YearMade']).astype(float)\n",
    "    df.drop(['saledate', 'YearMade'], axis=1, inplace=True)\n",
    "    df = df[(df.Age > 0) & (df.Age < 50)]\n",
    "    \n",
    "    \n",
    "#     df = df[['Age', 'Enclosure','SalePrice']]   \n",
    "#     return df\n",
    "\n",
    "\n",
    "    ## confirmed drop\n",
    "    df.drop([\\\n",
    "             'SalesID',\n",
    "             'auctioneerID',\n",
    "             \n",
    "             'fiModelDescriptor', \n",
    "             'fiProductClassDesc',\n",
    "             'fiModelDesc',\n",
    "             'fiSecondaryDesc', \n",
    "             'fiModelSeries', \n",
    "             'fiBaseModel',\n",
    "             \n",
    "             'ProductGroup',\n",
    "             'ProductGroupDesc', \n",
    "            ], axis=1, inplace=True)\n",
    "\n",
    "\n",
    "    ## temporary drop\n",
    "    df.drop([\\\n",
    "             'MachineID',\n",
    "             'ModelID',\n",
    "             'datasource',\n",
    "             'state',\n",
    "             \n",
    "             'MachineHoursCurrentMeter',\n",
    "             'UsageBand',\n",
    "            ], axis=1, inplace=True)\n",
    "    \n",
    "      ## `UsageBand` is ordered -- doesn't matter for DecisionTrees\n",
    "#     df[\"UsageBand\"].fillna(\"Medium\", inplace=True)\n",
    "#     df.loc[df.UsageBand == \"Low\",\"UsageBand\"] = 1.\n",
    "#     df.loc[df.UsageBand == \"Medium\",\"UsageBand\"] = 2.\n",
    "#     df.loc[df.UsageBand == \"High\",\"UsageBand\"] = 3.\n",
    "#     df[\"UsageBand\"].fillna(0, inplace=True)\n",
    "\n",
    "\n",
    "      ## order `datasource` is by low, medium, high fill-in percentage -- doesn't matter for Decision Trees\n",
    "#     df[\"datasource\"].fillna(0, inplace=True)\n",
    "#     df.loc[df.datasource == 132,\"datasource\"] = 0.\n",
    "#     df.loc[df.datasource == 149,\"datasource\"] = 0.\n",
    "#     df.loc[df.datasource == 136,\"datasource\"] = 10.\n",
    "#     df.loc[df.datasource == 121,\"datasource\"] = 20.\n",
    "#     df.loc[df.datasource == 127,\"datasource\"] = 20.\n",
    "#     df['datasource'] = df['datasource'].astype(float)\n",
    "\n",
    "    \n",
    "    \n",
    "    ## random drop\n",
    "    features = [ \\\n",
    "                 'ProductSize',\n",
    "                 'Blade_Extension', \n",
    "                 'Blade_Width', \n",
    "                 'Pushblock', \n",
    "                 'Scarifier', \n",
    "                 'Tire_Size', \n",
    "                 'Coupler_System',\n",
    "                 'Hydraulics_Flow',\n",
    "                 'Blade_Type',\n",
    "                 'Stick_Length',\n",
    "                 'Ripper',\n",
    "                 'Coupler',\n",
    "                 'Undercarriage_Pad_Width',\n",
    "                 'Thumb',\n",
    "                 'Transmission',\n",
    "                 'Ride_Control',\n",
    "                 'Grouser_Type',\n",
    "                 'Tip_Control',\n",
    "                 'Drive_System',\n",
    "                 'Travel_Controls',\n",
    "                 'Forks',\n",
    "                 'Enclosure_Type',\n",
    "                 'Differential_Type',\n",
    "                 'Steering_Controls',\n",
    "                 'Pattern_Changer',\n",
    "                 'Engine_Horsepower',\n",
    "                 'Track_Type',\n",
    "                 'Stick',\n",
    "                 'Backhoe_Mounting',\n",
    "                 'Pad_Type',\n",
    "                 'Turbocharged',\n",
    "                 'Grouser_Tracks',\n",
    "                 'Enclosure',\n",
    "                 'Hydraulics',\n",
    "                \n",
    "             ]\n",
    "\n",
    "    ## remove features with too many nulls\n",
    "#     for fname in features:\n",
    "#         if df[fname].isnull().sum().astype(float) / len(df) >= 0.01:\n",
    "#             df.drop(fname, axis=1, inplace=True)\n",
    "\n",
    "    df.drop(features, axis=1, inplace=True)\n",
    "\n",
    "\n",
    "    \n",
    "    \n",
    "    ## convert categorical columns to numeric\n",
    "    for cname in df.columns:\n",
    "        if df[cname].dtype == 'O':\n",
    "            \n",
    "            ## By interger label (technically incorrect way):\n",
    "            #df[cname].fillna(0, inplace=True)\n",
    "            #df[cname] = pd.Categorical(df[cname]).codes\n",
    "            \n",
    "            ## By creating dummy columns:\n",
    "            df[cname].fillna(0, inplace=True)\n",
    "            if len(df[cname].unique()) >= 2: # anything < 2 has no variation\n",
    "                df = pd.concat([df, pd.get_dummies(df[cname], prefix=cname)[1:]], axis=1)\n",
    "            elif not drop_mono:\n",
    "                df = pd.concat([df, pd.get_dummies(df[cname], prefix=cname)[0:]], axis=1)\n",
    "            df.drop(cname, axis=1, inplace=True)\n",
    "                \n",
    "        else:\n",
    "#             df[cname].fillna(df[cname].mean())\n",
    "            df[cname].fillna(df[cname].median())\n",
    "        \n",
    "    \n",
    "    ## catch leftover NaN's: drop when fit but fill when predict\n",
    "    if dropna:\n",
    "        df.dropna(inplace=True)\n",
    "        # df = df[df.datasource > 0]\n",
    "        # df.drop('datasource', axis=1, inplace=True)\n",
    "    else:\n",
    "        df.fillna(0, inplace=True)\n",
    "        \n",
    "    \n",
    "    return df"
   ]
  },
  {
   "cell_type": "markdown",
   "metadata": {},
   "source": [
    "### Tester"
   ]
  },
  {
   "cell_type": "code",
   "execution_count": 601,
   "metadata": {
    "collapsed": false
   },
   "outputs": [
    {
     "data": {
      "text/html": [
       "<div>\n",
       "<table border=\"1\" class=\"dataframe\">\n",
       "  <thead>\n",
       "    <tr style=\"text-align: right;\">\n",
       "      <th></th>\n",
       "      <th>SalePrice</th>\n",
       "      <th>Age</th>\n",
       "      <th>state_Alabama</th>\n",
       "      <th>state_New York</th>\n",
       "      <th>state_North Carolina</th>\n",
       "    </tr>\n",
       "  </thead>\n",
       "  <tbody>\n",
       "    <tr>\n",
       "      <th>0</th>\n",
       "      <td>66000</td>\n",
       "      <td>2</td>\n",
       "      <td>0</td>\n",
       "      <td>0</td>\n",
       "      <td>0</td>\n",
       "    </tr>\n",
       "    <tr>\n",
       "      <th>1</th>\n",
       "      <td>57000</td>\n",
       "      <td>8</td>\n",
       "      <td>0</td>\n",
       "      <td>0</td>\n",
       "      <td>1</td>\n",
       "    </tr>\n",
       "    <tr>\n",
       "      <th>2</th>\n",
       "      <td>10000</td>\n",
       "      <td>3</td>\n",
       "      <td>0</td>\n",
       "      <td>1</td>\n",
       "      <td>0</td>\n",
       "    </tr>\n",
       "  </tbody>\n",
       "</table>\n",
       "</div>"
      ],
      "text/plain": [
       "   SalePrice  Age  state_Alabama  state_New York  state_North Carolina\n",
       "0      66000    2              0               0                     0\n",
       "1      57000    8              0               0                     1\n",
       "2      10000    3              0               1                     0"
      ]
     },
     "execution_count": 601,
     "metadata": {},
     "output_type": "execute_result"
    }
   ],
   "source": [
    "df_cleaner(df_train[:3], drop_mono=True)"
   ]
  },
  {
   "cell_type": "markdown",
   "metadata": {},
   "source": [
    "<hr style='\tbackground-color: #fff; border-top: 2px dashed #8c8b8b;'>\n",
    "<br>\n",
    "# Model"
   ]
  },
  {
   "cell_type": "code",
   "execution_count": 552,
   "metadata": {
    "collapsed": false
   },
   "outputs": [],
   "source": [
    "def fit(base_estimator, df, mute=False):\n",
    "    \"\"\"\n",
    "    :type base_estimator: sklearn estimator\n",
    "    :type df: pandas.DataFrame\n",
    "    :type mute: bool\n",
    "    :rtype: dict{sklearn estimators}\n",
    "    \"\"\"\n",
    "    \n",
    "    df = df.copy()\n",
    "    \n",
    "    ## from quick grid search\n",
    "    best_params = {'BL': {'max_features': 0.4, 'max_depth': 12},\n",
    "                   'WL': {'max_features': 0.4, 'max_depth': 14},\n",
    "                   'SSL': {'max_features': 0.4, 'max_depth': 100},\n",
    "                   'TEX': {'max_features': 0.5, 'max_depth': 14},\n",
    "                   'TTT': {'max_features': 0.7, 'max_depth': 11},\n",
    "                   'MG': {'max_features': 0.7, 'max_depth': 12}}\n",
    "        \n",
    "        \n",
    "    models = {}   # {ProductGroup: (estimators, feature_names)}\n",
    "    grpdf = df.groupby('ProductGroup')\n",
    "    \n",
    "    for key, grp in grpdf:\n",
    "        \n",
    "        print 'Training', key\n",
    "        \n",
    "        df2 = df[df['ProductGroup'] == key]\n",
    "        df2 = df_cleaner(df2, drop_mono=True, dropna=True)\n",
    "        \n",
    "        y = df2['SalePrice'].values\n",
    "        df2.drop('SalePrice', axis=1, inplace=True)\n",
    "        X = df2.values\n",
    "        \n",
    "        if not mute:\n",
    "            print X.shape\n",
    "                    \n",
    "                \n",
    "        estimator = clone(base_estimator)    \n",
    "#         estimator.set_params(**best_params[key])\n",
    "\n",
    "        if 'linear_model' in base_estimator.__class__.__module__:\n",
    "            X = X.astype(float)\n",
    "            \n",
    "            estimator = Pipeline([('scaler', Normalizer()),\n",
    "                                  ('base_estimator', clone(base_estimator))])\n",
    "            \n",
    "        \n",
    "        models[key] = (estimator.fit(X,y), set(df2.columns))\n",
    "\n",
    "    return models"
   ]
  },
  {
   "cell_type": "markdown",
   "metadata": {},
   "source": [
    "### Tester"
   ]
  },
  {
   "cell_type": "code",
   "execution_count": 553,
   "metadata": {
    "collapsed": false
   },
   "outputs": [
    {
     "name": "stdout",
     "output_type": "stream",
     "text": [
      "Training SSL\n",
      "Training TEX\n",
      "Training WL\n"
     ]
    }
   ],
   "source": [
    "models = fit(RandomForestRegressor(), df_train[:5], mute=True)"
   ]
  },
  {
   "cell_type": "markdown",
   "metadata": {},
   "source": [
    "<hr style='background-color: #fff; border-top: 2px dotted #8c8b8b;'>"
   ]
  },
  {
   "cell_type": "code",
   "execution_count": 554,
   "metadata": {
    "collapsed": true
   },
   "outputs": [],
   "source": [
    "def rmsle(y, y_pred):\n",
    "    \"\"\"\n",
    "    :type y: numpy.array\n",
    "    :type y_pred: numpy.array\n",
    "    :rtype: float\n",
    "    \"\"\"\n",
    "    return np.sqrt(np.sum((np.log(y_pred + 1) - np.log(y + 1))**2) / len(y))"
   ]
  },
  {
   "cell_type": "code",
   "execution_count": 568,
   "metadata": {
    "collapsed": false
   },
   "outputs": [],
   "source": [
    "def predict(models, df, mute=False):\n",
    "    \"\"\"\n",
    "    :type models: dict{sklearn estimators}\n",
    "    :type df: pandas.DataFrame\n",
    "    :type mute: bool\n",
    "    :rtype: numpy.array\n",
    "    \"\"\"\n",
    "\n",
    "    df = df.copy()\n",
    "    \n",
    "    df.index = range(len(df))  # rename rows so we can later map predictions back in order\n",
    "\n",
    "    has_y = 'SalePrice' in df.columns\n",
    "    y_final = np.zeros(len(df))\n",
    "    grpdf = df.groupby('ProductGroup')\n",
    "    \n",
    "    for key, grp in grpdf:\n",
    "        \n",
    "        print 'Testing', key\n",
    "        \n",
    "        df2 = df[df['ProductGroup'] == key]\n",
    "        df2 = df_cleaner(df2, drop_mono=True, dropna=False)\n",
    "        \n",
    "        \n",
    "        if has_y:\n",
    "            y = df2['SalePrice'].values\n",
    "        \n",
    "        \n",
    "        estimator, features = models[key]\n",
    "        \n",
    "        ## drop features not in model -- note: this will drop `SalePrice` column\n",
    "        for cname in df2.columns:\n",
    "            if cname not in features:\n",
    "                df2.drop(cname, axis=1, inplace=True)\n",
    "        \n",
    "        ## add features not in df\n",
    "        cnames = set(df2.columns)\n",
    "        for fname in features:\n",
    "            if fname not in cnames:\n",
    "                df2[fname] = 0\n",
    "\n",
    "        X = df2.values\n",
    "        \n",
    "        if estimator.__class__.__name__ == 'Pipeline':\n",
    "            X = X.astype(float)\n",
    "        \n",
    "        y_final[list(df2.index)] += estimator.predict(X)\n",
    "    \n",
    "    \n",
    "    if has_y:\n",
    "        print rmsle(df['SalePrice'].values, y_final)\n",
    "#         print r2_score(df['SalePrice'].values, y_final)\n",
    "        \n",
    "    return y_final"
   ]
  },
  {
   "cell_type": "markdown",
   "metadata": {},
   "source": [
    "### Tester"
   ]
  },
  {
   "cell_type": "code",
   "execution_count": 566,
   "metadata": {
    "collapsed": false,
    "scrolled": false
   },
   "outputs": [
    {
     "name": "stdout",
     "output_type": "stream",
     "text": [
      "Testing SSL\n",
      "Testing WL\n",
      "0.886931675688\n"
     ]
    }
   ],
   "source": [
    "y_pred = predict(models, df_train[:3], mute=True)"
   ]
  },
  {
   "cell_type": "markdown",
   "metadata": {},
   "source": [
    "<hr style='\tbackground-color: #fff; border-top: 2px dashed #8c8b8b;'>\n",
    "<br>\n",
    "# Quick Test -- 2000 Random Observations\n",
    "***(n.b.: comment out \"`rand_i = rand_i[:2000]`\" for a full test on `Train.csv` data)***"
   ]
  },
  {
   "cell_type": "code",
   "execution_count": 602,
   "metadata": {
    "collapsed": false
   },
   "outputs": [
    {
     "name": "stdout",
     "output_type": "stream",
     "text": [
      "Training BL\n",
      "Training MG\n",
      "Training SSL\n",
      "Training TEX\n",
      "Training TTT\n",
      "Training WL\n",
      "Testing BL\n",
      "Testing MG\n",
      "Testing SSL\n",
      "Testing TEX\n",
      "Testing TTT\n",
      "Testing WL\n",
      "3.10733836901\n"
     ]
    }
   ],
   "source": [
    "np.random.seed(42)\n",
    "\n",
    "rand_i = range(len(df_train))\n",
    "np.random.shuffle(rand_i)\n",
    "# rand_i = rand_i[:2000]\n",
    "test_size = int(len(rand_i)*0.2)\n",
    "\n",
    "qt_df_test = df_train.iloc[rand_i[:test_size], :]\n",
    "qt_df_train = df_train.iloc[rand_i[test_size:], :]\n",
    "\n",
    "\n",
    "## Bad models: \n",
    "# models = fit(Ridge(), qt_df_train, mute=True)\n",
    "# models = fit(Lasso(), qt_df_train, mute=True)\n",
    "# models = fit(LinearRegression(), qt_df_train, mute=True)\n",
    "# models = fit(AdaBoostRegressor(Ridge()), qt_df_train, mute=True)\n",
    "# models = fit(AdaBoostRegressor(Lasso()), qt_df_train, mute=True)\n",
    "# models = fit(AdaBoostRegressor(LinearRegression()), qt_df_train, mute=True)\n",
    "\n",
    "## OK models:\n",
    "# models = fit(RandomForestRegressor(50, n_jobs=-1), qt_df_train, mute=True)\n",
    "# models = fit(GradientBoostingRegressor(), qt_df_train, mute=True)\n",
    "models = fit(AdaBoostRegressor(), qt_df_train, mute=True)\n",
    "\n",
    "y_pred = predict(models, qt_df_test)"
   ]
  },
  {
   "cell_type": "code",
   "execution_count": 618,
   "metadata": {
    "collapsed": false
   },
   "outputs": [
    {
     "name": "stderr",
     "output_type": "stream",
     "text": [
      "/Users/l/anaconda/lib/python2.7/site-packages/ipykernel/__main__.py:2: SettingWithCopyWarning: \n",
      "A value is trying to be set on a copy of a slice from a DataFrame.\n",
      "Try using .loc[row_indexer,col_indexer] = value instead\n",
      "\n",
      "See the caveats in the documentation: http://pandas.pydata.org/pandas-docs/stable/indexing.html#indexing-view-versus-copy\n",
      "  from ipykernel import kernelapp as app\n"
     ]
    },
    {
     "data": {
      "image/png": "[encoded data removed]",
      "text/plain": [
       "<matplotlib.figure.Figure at 0x10aa06cd0>"
      ]
     },
     "metadata": {},
     "output_type": "display_data"
    }
   ],
   "source": [
    "df_simplest = df_train[['saledate', 'YearMade', 'SalePrice']]\n",
    "df_simplest['Age'] = (df_simplest['saledate'].dt.year - df_simplest['YearMade']).astype(float)\n",
    "df_simplest = df_simplest[(df_simplest.Age > 0) & (df_simplest.Age < 50)]\n",
    "model = RandomForestRegressor(50, n_jobs=-1)\n",
    "\n",
    "fig = plt.figure(figsize=(9,9))\n",
    "ax = fig.add_subplot(111)\n",
    "ax.scatter(df_simplest['Age'], df_simplest['SalePrice'])\n",
    "plt.show()"
   ]
  },
  {
   "cell_type": "markdown",
   "metadata": {},
   "source": [
    "## Observations:\n",
    "* Linear models yield -ve `r2_score` -- `r2_score` is negative when the chosen model does not follow the trend of the data, so fits worse than a horizontal line.\n",
    "<br><br>\n",
    "* Converting `X` to float results in -ve `r2_score` even for DecisionTree-based models\n",
    "<br><br>\n"
   ]
  },
  {
   "cell_type": "markdown",
   "metadata": {},
   "source": [
    "## At 80-20 split:\n",
    "\n",
    "| Data Set | Classifier | Categorical | Add Features | `r2_score` |\n",
    "|----------|------------|-------------|--------------|---------|\n",
    "| Quick | RandomForestRegressor | dummy + drop mono |  | 0.191408897105 |\n",
    "| Quick | RandomForestRegressor | dummy + drop mono <br> num col fillna(median)|  | 0.191408897105 |\n",
    "| Quick | RandomForestRegressor | dummy + keep mono |  | -0.0108693750281 |\n",
    "| Quick | RandomForestRegressor | int + 2 |  | -0.00682274487991 |\n",
    "| Quick | RandomForestRegressor | int |  | -0.00682274487991 |\n",
    "* dummy + drop mono performs better"
   ]
  },
  {
   "cell_type": "markdown",
   "metadata": {},
   "source": [
    "| Data Set | Classifier | Categorical | Add Features | `r2_score` |\n",
    "|----------|------------|-------------|--------------|---------|\n",
    "| Quick | RandomForestRegressor | dummy + drop mono | `state` | 0.165979479522 |\n",
    "| Quick | RandomForestRegressor | dummy + drop mono | `state` <br> `MachineHoursCurrentMeter` | 0.103512977997 |\n",
    "| Quick | RandomForestRegressor | dummy + drop mono | `state` <br> `UsageBand` | 0.168793717001 |\n",
    "| Quick | RandomForestRegressor | dummy + drop mono | `state` <br> `MachineHoursCurrentMeter` <br> `UsageBand` | 0.0790132227099 |\n",
    "| Quick | RandomForestRegressor | dummy + drop mono | `MachineHoursCurrentMeter` <br> `UsageBand` | -0.0928105593064 |\n",
    "| Quick | RandomForestRegressor | dummy + drop mono | `UsageBand` (ordered 1,2,3) | 0.164617794259 |\n",
    "| Quick | RandomForestRegressor | dummy + drop mono | `state`  <br> `UsageBand` (1,2,3) | 0.166493058929 |\n",
    "* Of these, just `state` alone is the best, but lower than not adding `state`"
   ]
  },
  {
   "cell_type": "markdown",
   "metadata": {},
   "source": [
    "| Data Set | Classifier | Categorical | Add Features | `r2_score` |\n",
    "|----------|------------|-------------|--------------|---------|\n",
    "| Quick | RandomForestRegressor | dummy + drop mono | `datasource` (0,1,2) | 0.148253110431 |\n",
    "| Quick | RandomForestRegressor | dummy + drop mono | `datasource` (0,1,2 drop 0) <br> `UsageBand` (1,2,3) | 0.0555819919356 |\n",
    "| Quick | RandomForestRegressor | dummy + drop mono | `datasource` (0,1,2 drop 0) | 0.00102101293298 |\n",
    "| Quick | RandomForestRegressor | dummy + drop mono | `datasource` (0.,5.,10.)<br> `UsageBand` (1,2,3) | 0.152608020099 |\n",
    "| Quick | RandomForestRegressor | dummy + drop mono | `datasource` (0.,10.,20.)<br> `UsageBand` (1,2,3) | 0.152608020099 |\n",
    "| Quick | RandomForestRegressor | dummy + drop mono | `datasource` (0.,5.,10.)<br> `UsageBand` (1.,2.,3.) | 0.151174098746 |\n",
    "\n",
    "* Converting `datasource` into float -- column becomes a \"weight\" rather than integer category -- better score\n",
    "    * but doesn't matter what the weights are\n",
    "* Converting `UsageBand` into float -- worse "
   ]
  },
  {
   "cell_type": "markdown",
   "metadata": {},
   "source": [
    "| Data Set | Classifier | Categorical | Add Features | `r2_score` |\n",
    "|----------|------------|-------------|--------------|---------|\n",
    "| Quick | RandomForestRegressor | dummy + drop mono | `datasource` (0.,5.,10.)<br> `UsageBand` (Nan=0,1,2,3) | 0.160049950667 |\n",
    "| Quick | RandomForestRegressor | dummy + drop mono | `datasource` (0.,5.,10.)<br> `UsageBand` (Nan=Low,1,2,3) | 0.149016915116 |\n",
    "| Quick | RandomForestRegressor | dummy + drop mono | `datasource` (0.,5.,10.)<br> `UsageBand` (Nan=Med,1,2,3) | 0.152608020099 |\n",
    "| Quick | RandomForestRegressor | dummy + drop mono | `datasource` (0.,5.,10.)<br> `UsageBand` (Nan=High,1,2,3) | 0.15977995566 |\n",
    "* For `UsageBand`, separate NaNs into its own category"
   ]
  },
  {
   "cell_type": "markdown",
   "metadata": {},
   "source": [
    "<hr style='\tbackground-color: #fff; border-top: 2px dashed #8c8b8b;'>\n",
    "<br>\n",
    "\n",
    "# Quick Grid Search\n",
    "***(n.b.: comment out \"`rand_i = rand_i[:4000]`\" for a full search on `Train.csv` data)***"
   ]
  },
  {
   "cell_type": "code",
   "execution_count": 383,
   "metadata": {
    "collapsed": false
   },
   "outputs": [
    {
     "data": {
      "text/plain": [
       "array(['WL', 'SSL', 'TEX', 'BL', 'TTT', 'MG'], dtype=object)"
      ]
     },
     "execution_count": 383,
     "metadata": {},
     "output_type": "execute_result"
    }
   ],
   "source": [
    "df_train['ProductGroup'].unique()"
   ]
  },
  {
   "cell_type": "code",
   "execution_count": 412,
   "metadata": {
    "collapsed": false
   },
   "outputs": [
    {
     "name": "stdout",
     "output_type": "stream",
     "text": [
      "(22604, 198)\n"
     ]
    }
   ],
   "source": [
    "df_pg = df_cleaner(df_train[df_train.ProductGroup == 'MG'])\n",
    "y = df_pg['SalePrice'].values\n",
    "X = df_pg.drop('SalePrice', axis=1).values\n",
    "print X.shape\n",
    "\n",
    "np.random.seed(42)\n",
    "rand_i = range(len(y))\n",
    "np.random.shuffle(rand_i)\n",
    "rand_i = rand_i[:4000]"
   ]
  },
  {
   "cell_type": "code",
   "execution_count": 415,
   "metadata": {
    "collapsed": false
   },
   "outputs": [
    {
     "name": "stdout",
     "output_type": "stream",
     "text": [
      "0.780382629259\n",
      "{'max_features': 0.7, 'max_depth': 12}\n"
     ]
    }
   ],
   "source": [
    "searchables = [{'max_depth': [11, 12, 13],\n",
    "                'max_features': [0.8, 0.6, 0.7]}]\n",
    "gsCV = GridSearchCV(RandomForestRegressor(50),\n",
    "                    searchables,\n",
    "                    scoring='r2',\n",
    "                    verbose=0)\n",
    "gsCV.fit(X[rand_i], y[rand_i])\n",
    "print gsCV.best_score_\n",
    "print gsCV.best_params_"
   ]
  },
  {
   "cell_type": "markdown",
   "metadata": {},
   "source": [
    "## From random sampling 4000 observations each:\n",
    "\n",
    "| ProductGroup | Best r2_score | Best Params |\n",
    "|--|--|--|\n",
    "| BL | 0.679897536415 | {'max_features': 0.4, 'max_depth': 12} |\n",
    "| WL | 0.740451932209 | {'max_features': 0.4, 'max_depth': 14} |\n",
    "| SSL | 0.496453625798 | {'max_features': 0.4, 'max_depth': 100} |\n",
    "| TEX | 0.749668178126 | {'max_features': 0.5, 'max_depth': 14} |\n",
    "| TTT | 0.704387501783 | {'max_features': 0.7, 'max_depth': 11} |\n",
    "| MG | 0.780382629259 | {'max_features': 0.7, 'max_depth': 12} |\n",
    "\n",
    "* Quick test using these parameters: `r2_score` = 0.178892261946 -- not better"
   ]
  },
  {
   "cell_type": "markdown",
   "metadata": {},
   "source": [
    "<hr style='\tbackground-color: #fff; border-top: 2px dashed #8c8b8b;'>\n",
    "<br>\n",
    "\n",
    "# Moment of Truth... (dum dum dum)"
   ]
  },
  {
   "cell_type": "code",
   "execution_count": 466,
   "metadata": {
    "collapsed": false
   },
   "outputs": [
    {
     "name": "stdout",
     "output_type": "stream",
     "text": [
      "Training BL\n",
      "Training MG\n",
      "Training SSL\n",
      "Training TEX\n",
      "Training TTT\n",
      "Training WL\n"
     ]
    }
   ],
   "source": [
    "models = fit(RandomForestRegressor(50, n_jobs=-1), df_train, mute=True)"
   ]
  },
  {
   "cell_type": "code",
   "execution_count": 467,
   "metadata": {
    "collapsed": false
   },
   "outputs": [
    {
     "name": "stdout",
     "output_type": "stream",
     "text": [
      "Testing BL\n",
      "Testing MG\n",
      "Testing SSL\n",
      "Testing TEX\n",
      "Testing TTT\n",
      "Testing WL\n"
     ]
    }
   ],
   "source": [
    "y_pred = predict(models, df_test)"
   ]
  },
  {
   "cell_type": "code",
   "execution_count": 468,
   "metadata": {
    "collapsed": false
   },
   "outputs": [],
   "source": [
    "## Output data for submission:\n",
    "result_df = pd.DataFrame(np.c_[df_test['SalesID'].values, y_pred], \n",
    "                         columns = ['SalesID', 'SalePrice'])\n",
    "result_df.to_csv('result_individual_dropfeatures.csv', index=False)\n",
    "\n",
    "\n",
    "# Run in terminal: python score_model.py result.csv"
   ]
  },
  {
   "cell_type": "markdown",
   "metadata": {},
   "source": [
    "# Don't want to Slack out my results..."
   ]
  },
  {
   "cell_type": "code",
   "execution_count": 446,
   "metadata": {
    "collapsed": false
   },
   "outputs": [],
   "source": [
    "test_solution = pd.read_csv('data/do_not_open/test_soln.csv')"
   ]
  },
  {
   "cell_type": "code",
   "execution_count": 470,
   "metadata": {
    "collapsed": false
   },
   "outputs": [
    {
     "data": {
      "text/plain": [
       "3.2995851396238445"
      ]
     },
     "execution_count": 470,
     "metadata": {},
     "output_type": "execute_result"
    }
   ],
   "source": [
    "rmsle(test_solution['SalePrice'], y_pred)"
   ]
  },
  {
   "cell_type": "code",
   "execution_count": 471,
   "metadata": {
    "collapsed": true
   },
   "outputs": [],
   "source": [
    "result_group = pd.read_csv('result_group_best.csv')"
   ]
  },
  {
   "cell_type": "code",
   "execution_count": 472,
   "metadata": {
    "collapsed": false
   },
   "outputs": [
    {
     "data": {
      "text/plain": [
       "0.29570354605279137"
      ]
     },
     "execution_count": 472,
     "metadata": {},
     "output_type": "execute_result"
    }
   ],
   "source": [
    "rmsle(test_solution['SalePrice'], result_group['SalePrice'])"
   ]
  },
  {
   "cell_type": "code",
   "execution_count": null,
   "metadata": {
    "collapsed": true
   },
   "outputs": [],
   "source": []
  }
 ],
 "metadata": {
  "kernelspec": {
   "display_name": "Python 2",
   "language": "python",
   "name": "python2"
  },
  "language_info": {
   "codemirror_mode": {
    "name": "ipython",
    "version": 2
   },
   "file_extension": ".py",
   "mimetype": "text/x-python",
   "name": "python",
   "nbconvert_exporter": "python",
   "pygments_lexer": "ipython2",
   "version": "2.7.11"
  }
 },
 "nbformat": 4,
 "nbformat_minor": 0
}
